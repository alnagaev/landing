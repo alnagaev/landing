{
 "cells": [
  {
   "cell_type": "markdown",
   "metadata": {},
   "source": [
    "Что такое циклы\n",
    "\n",
    "Пройдемся по основам списков и словарей\n",
    "\n",
    "Виды циклов\n",
    "\n",
    "Дополнительные слова\n",
    "\n",
    "Ветлвение в циклах\n",
    "\n",
    "Вложенные циклы\n",
    "\n",
    "Практические задачи"
   ]
  },
  {
   "cell_type": "markdown",
   "metadata": {},
   "source": [
    "Цикл - это управляющая конструкция (другая управляющая конструкция: - это if/else), которая реализует возможность последовательного перебора, повторения или выполнения каких-либо однотипных действий\n",
    "\n",
    "Цикл нужен нам в тех ситуациях, когда мы хотим применить одно и то же действие к коллекции объектов (например, список или строка) \n",
    "\n",
    "Циклы в python делятся на два вида: while и for. \n",
    "\n"
   ]
  },
  {
   "cell_type": "markdown",
   "metadata": {},
   "source": [
    "Цикл while - переводится как \"пока\" или если точнее \"до тех пор пока\". Этот цикл работает до тех пор, пока условие цикла истинно. \n",
    "\n",
    "Проверка на истинность происходит до выполнения кода в теле цикла. В python нет аналога do...while как в JS или Си  "
   ]
  },
  {
   "cell_type": "markdown",
   "metadata": {},
   "source": [
    "http://pythontutor.com/visualize.html#mode=edit\n",
    "\n",
    "Визуализатор для этого урока. Он может очень сильно помочь на начальном этапе изчения Python, когда вы пишите свои собственные программы, но ещё не понимаете как именно работает ваш код. Самые частые ошибки новичков - это непонимание границ выполнения ключевых этапов работы программы. Порой очень хороший код не будет работать из-за одной маленькой ошибки. "
   ]
  },
  {
   "cell_type": "code",
   "execution_count": 8,
   "metadata": {},
   "outputs": [
    {
     "name": "stdout",
     "output_type": "stream",
     "text": [
      "У нас 10 рублей\n",
      "У нас 9 рублей\n",
      "У нас 8 рублей\n",
      "У нас 7 рублей\n",
      "У нас 6 рублей\n",
      "У нас 5 рублей\n",
      "У нас 4 рублей\n",
      "У нас 3 рублей\n",
      "У нас 2 рублей\n",
      "У нас 1 рублей\n",
      "Денег больше нет, но вы держитесь\n"
     ]
    }
   ],
   "source": [
    "money = 10 # создаем переменную money и присваиваем ей значение 10\n",
    "while money > 0: # Запускаем цикл\n",
    "    print (\"У нас {} рублей\".format(money)) #Мы внутри цикла. Печатаем сообщение\n",
    "    money -= 1 # Все еще внутри цикла. Уменьшаем на один переменную money\n",
    "print (\"Денег больше нет, но вы держитесь\") # Мы вне цикла. Печатаем сообщение\n",
    "\n"
   ]
  },
  {
   "cell_type": "markdown",
   "metadata": {},
   "source": [
    "Сначала создаем нашу переменную-счетчик и устанавливаем значение 10\n",
    "\n",
    "Создаем условие цикла **while**: пока деньги больше 0, выводим их количество\n",
    "\n",
    "Каждый шаг цикла, каждая итерация означает вычитание единицы из переменной **money**. \n",
    "\n",
    "Единица - нужна здесь для понятности, чтобы шаг был максимально плавным.\n",
    "\n",
    "Шаг не обязан быть единицей, шаг не обязан быть целым числом.\n",
    "\n",
    "Если шаг будет отрицательным в этом примере, то мы попадем в вечный цикл и программу нужно будет остановить вручную. \n",
    "\n",
    "В реальных условиях вам в 99% случаев нужен именно шаг +- 1."
   ]
  },
  {
   "cell_type": "code",
   "execution_count": null,
   "metadata": {
    "scrolled": false
   },
   "outputs": [],
   "source": [
    "# Не запускайте этот цикл! Он бесконечный и нужен только для примера как делать не надо ;)\n",
    "\n",
    "# num = 1\n",
    "# while num < 10:\n",
    "#     print(\"Hello\")"
   ]
  },
  {
   "cell_type": "markdown",
   "metadata": {},
   "source": [
    "## Ещё есть цикл **for**.\n",
    "#### Он быстрее while, чуть менее универсальный, но более удобный и надежный на практике. \n",
    "\n",
    "\n",
    "Отлично подходит для перебора коллекций данных, массивов, списков и строк"
   ]
  },
  {
   "cell_type": "code",
   "execution_count": 10,
   "metadata": {},
   "outputs": [
    {
     "name": "stdout",
     "output_type": "stream",
     "text": [
      "5\n"
     ]
    }
   ],
   "source": [
    "#задача на нахождение числа в строке, которую можно решить с помощью цикла\n",
    "# еще эту задачу можно решить с помощью регулярных выражений https://tproger.ru/translations/regular-expression-python/\n",
    "a = 'Для приготовления блюда нам потребуется 5 килограмм картофеля'\n",
    "\n",
    "for i in a:\n",
    "    if i.isdigit():\n",
    "        print(i)"
   ]
  },
  {
   "cell_type": "markdown",
   "metadata": {},
   "source": [
    "Цикл *for* во всей красе раскрывает себя при работе со списками\n",
    "\n",
    "**Списки** в Python - упорядоченные изменяемые коллекции объектов произвольных типов (почти как массив, но типы могут отличаться). \n",
    "\n",
    "Чтобы использовать списки, их нужно создать. Создать список можно несколькими способами. Например, можно обработать любой итерируемый объект (например, строку) встроенной функцией list:"
   ]
  },
  {
   "cell_type": "code",
   "execution_count": 16,
   "metadata": {},
   "outputs": [
    {
     "data": {
      "text/plain": [
       "['с', 'п', 'и', 'с', 'о', 'к']"
      ]
     },
     "execution_count": 16,
     "metadata": {},
     "output_type": "execute_result"
    }
   ],
   "source": [
    "list('список')"
   ]
  },
  {
   "cell_type": "markdown",
   "metadata": {},
   "source": [
    "Но чаще нам нужно просто создать пустой список, чтобы потом в ходе программы наполнять его значениями\n"
   ]
  },
  {
   "cell_type": "code",
   "execution_count": 20,
   "metadata": {},
   "outputs": [
    {
     "name": "stdout",
     "output_type": "stream",
     "text": [
      "['список']\n"
     ]
    }
   ],
   "source": [
    "b = []\n",
    "b.append('список') #команда append нужна для того, чтобы добавить в конец списка какое-то значение\n",
    "print(b)\n",
    "\n"
   ]
  },
  {
   "cell_type": "markdown",
   "metadata": {},
   "source": [
    "Индексация списков"
   ]
  },
  {
   "cell_type": "code",
   "execution_count": 38,
   "metadata": {},
   "outputs": [
    {
     "data": {
      "text/plain": [
       "'с'"
      ]
     },
     "execution_count": 38,
     "metadata": {},
     "output_type": "execute_result"
    }
   ],
   "source": [
    "list('список')[0]"
   ]
  },
  {
   "cell_type": "markdown",
   "metadata": {},
   "source": [
    "Список методов работы со списками тут: https://pythonworld.ru/tipy-dannyx-v-python/spiski-list-funkcii-i-metody-spiskov.html\n",
    "\n",
    "В отличие от строк и других примитивных типов данных список является изменяемым объектом. \n",
    "\n",
    "Чтобы изменить строку, нам нужно создать новую переменную и присвоить ей новое значение.\n",
    "\n",
    "Список мы можем менять в той же переменной.\n",
    "\n",
    "В этом есть как свои плюсы, так и минусы.\n",
    "\n",
    "Минус: можем случайно удалить то, что следовало оставить или записать то, что записывать не следовало.\n",
    "\n",
    "Подробнее: http://sheregeda.github.io/blog/2017/06/15/tipy-dannykh-v-python/"
   ]
  },
  {
   "cell_type": "code",
   "execution_count": 28,
   "metadata": {},
   "outputs": [
    {
     "name": "stdout",
     "output_type": "stream",
     "text": [
      "76 12 123 333 "
     ]
    }
   ],
   "source": [
    "a = [1, 5 ,76, 12, 123, 333, 5, 6,7]\n",
    "\n",
    "for i in a:\n",
    "    if i>10:\n",
    "        print(i, end=' ')\n",
    "        \n"
   ]
  },
  {
   "cell_type": "code",
   "execution_count": 27,
   "metadata": {},
   "outputs": [
    {
     "name": "stdout",
     "output_type": "stream",
     "text": [
      "6 9 7 "
     ]
    }
   ],
   "source": [
    "#а ещё списки могут быть вложены друг в друга представим, очень часто такое встречается в данных, полученных из REST API\n",
    "\n",
    "array_of_arrays = [[1, 2, 3], [4, 5 ,6], [71, 2, 5]]\n",
    "\n",
    "for i in array_of_arrays:\n",
    "    summ = 0\n",
    "    for j in i:\n",
    "        if j <6:\n",
    "            summ = summ + j\n",
    "    print(summ, end=' ')"
   ]
  },
  {
   "cell_type": "markdown",
   "metadata": {},
   "source": [
    "## range \n",
    "когда нужно пройтись по определенному промежутку"
   ]
  },
  {
   "cell_type": "markdown",
   "metadata": {},
   "source": [
    "Введение в range()\n",
    "\n",
    "Итак, как работает функция Python под названием range?\n",
    "Простыми словами, range() позволяет вам генерировать ряд чисел в рамках заданного диапазона.\n",
    "В зависимости от того, как много аргументов вы передаете функции, вы можете решить, где этот ряд чисел начнется и закончится, а также насколько велика разница будет между двумя числами.\n",
    "\n",
    "Вот небольшой пример range() в действии:"
   ]
  },
  {
   "cell_type": "code",
   "execution_count": 49,
   "metadata": {},
   "outputs": [
    {
     "name": "stdout",
     "output_type": "stream",
     "text": [
      "3 делится на 3, результат 1.\n",
      "6 делится на 3, результат 2.\n",
      "9 делится на 3, результат 3.\n",
      "12 делится на 3, результат 4.\n",
      "15 делится на 3, результат 5.\n"
     ]
    }
   ],
   "source": [
    "for i in range(3, 16, 3):\n",
    "    quotient = i / 3\n",
    "    print(f\"{i} делится на 3, результат {int(quotient)}.\")\n",
    "    \n",
    "\n",
    "#https://python-scripts.com/range \n",
    "#если кому-то интересно, то по этой ссылке есть отличный материал по функции numpy arrange"
   ]
  },
  {
   "cell_type": "markdown",
   "metadata": {},
   "source": [
    "Есть три способа вызова range():\n",
    "\n",
    "- range(стоп) берет один аргумент\n",
    "- range(старт, стоп) берет два аргумента\n",
    "- range(старт, стоп, шаг) берет три аргумента"
   ]
  },
  {
   "cell_type": "markdown",
   "metadata": {},
   "source": [
    "## Операторы **break** и **continue** (когда нужно больше контроля) \n",
    "\n",
    "Оператор **continue** начинает следующий проход цикла, минуя оставшееся тело цикла (for или while)"
   ]
  },
  {
   "cell_type": "code",
   "execution_count": 25,
   "metadata": {},
   "outputs": [
    {
     "name": "stdout",
     "output_type": "stream",
     "text": [
      "hell wrld"
     ]
    }
   ],
   "source": [
    "for i in 'hello world':\n",
    "    if i == 'o':\n",
    "        continue\n",
    "    print(i, end = '')\n",
    "\n"
   ]
  },
  {
   "cell_type": "markdown",
   "metadata": {},
   "source": [
    "Оператор **break** прерывает  досрочно цикл"
   ]
  },
  {
   "cell_type": "code",
   "execution_count": 31,
   "metadata": {},
   "outputs": [
    {
     "name": "stdout",
     "output_type": "stream",
     "text": [
      "hell"
     ]
    }
   ],
   "source": [
    "for i in 'hello world':\n",
    "    if i == 'o':\n",
    "        break\n",
    "    print(i, end='')\n",
    "\n"
   ]
  },
  {
   "cell_type": "markdown",
   "metadata": {},
   "source": [
    "**Else** поможет нам проверить как именно закончился цикл: насильно, с помощью break или естественно"
   ]
  },
  {
   "cell_type": "code",
   "execution_count": 36,
   "metadata": {},
   "outputs": [
    {
     "name": "stdout",
     "output_type": "stream",
     "text": [
      "В строке есть буква а\n"
     ]
    }
   ],
   "source": [
    "first = 'hello world'\n",
    "second = 'i am an actor'\n",
    "\n",
    "for i in second:\n",
    "    if i == 'a':\n",
    "        print('В строке есть буква а')\n",
    "        break\n",
    "else:\n",
    "    print('Буквы a в строке нет')\n",
    "\n"
   ]
  },
  {
   "cell_type": "markdown",
   "metadata": {},
   "source": [
    "**list comprehensions** или генераторы списков"
   ]
  },
  {
   "cell_type": "code",
   "execution_count": 37,
   "metadata": {},
   "outputs": [],
   "source": [
    "squares = [x ** 2 for x in range(10)] \n",
    "\n",
    "# равно по смыслу \n",
    "\n",
    "squares = []\n",
    "for x in range(10):\n",
    "    squares.append(x ** 2)"
   ]
  },
  {
   "cell_type": "markdown",
   "metadata": {},
   "source": [
    "### Кейс для циклов  №1\n",
    "\n",
    "Это симуляцие реальных практических примеров, когда циклы могут упростить вашу жизнь в разы\n",
    "\n",
    "Сложить все текстовые файлы в один большой файл. Предположим у нас на компьютере есть три текстовых файла, а мы хотим создать из них один, который мы отправим по электронной почте своему коллеге. Три - это еще легко, проще сделать все руками, но их могло бы быть и 100 и 1000. В общем, посмотрим как работает чтение и запись файлов на питоне и проиллюстрируем силу циклов. \n"
   ]
  },
  {
   "cell_type": "code",
   "execution_count": 37,
   "metadata": {},
   "outputs": [],
   "source": [
    "import os\n",
    "filenames = ['1раз.txt', '2два.txt', '3три.txt'] #для индексации\n",
    "data = ['раз', 'два', 'три']\n",
    "\n",
    "def write_files(filenames, data):\n",
    "    if len(filenames) == len(data):\n",
    "        for i in range(len(filenames)):\n",
    "            with open(filenames[i], 'w') as f:\n",
    "                f.write(data[i])\n",
    "\n",
    "    \n",
    "def check_files(filenames):\n",
    "    #этот код для меня, он проверяет все ли записалось как надо\n",
    "    if set(filenames).issubset(set(os.listdir())):\n",
    "        return sum([os.path.getsize(x) for x in filenames])\n",
    "    else:\n",
    "        return 0\n",
    "\n",
    "\n",
    "\n",
    "    \n",
    "write_files(filenames, data)"
   ]
  },
  {
   "cell_type": "code",
   "execution_count": null,
   "metadata": {},
   "outputs": [],
   "source": []
  },
  {
   "cell_type": "code",
   "execution_count": 42,
   "metadata": {},
   "outputs": [],
   "source": [
    "result_file = 'result.txt'\n",
    "with open(result_file, 'w') as result:\n",
    "    for i in os.listdir():\n",
    "        if i.endswith('.txt'):\n",
    "            with open(i) as f:\n",
    "                result.write(f.read() + ' ')\n",
    "                \n"
   ]
  },
  {
   "cell_type": "code",
   "execution_count": 39,
   "metadata": {},
   "outputs": [
    {
     "name": "stdout",
     "output_type": "stream",
     "text": [
      "['.ipynb_checkpoints', '1раз.txt', '2два.txt', '3три.txt', 'result.txt', 'Введение_в_программирование_циклы.ipynb', 'два.txt', 'раз.txt', 'три.txt']\n"
     ]
    }
   ],
   "source": [
    "print(os.listdir())"
   ]
  },
  {
   "cell_type": "code",
   "execution_count": 43,
   "metadata": {},
   "outputs": [
    {
     "name": "stdout",
     "output_type": "stream",
     "text": [
      "раз два три  \n"
     ]
    }
   ],
   "source": [
    "with open('result.txt', 'r') as f:\n",
    "    print(f.read())"
   ]
  },
  {
   "cell_type": "markdown",
   "metadata": {},
   "source": [
    "### Кейс для циклов 2\n",
    "\n",
    "Сложение экселевских таблиц\n",
    "\n",
    "То же самое можно провернуть и с таблицами. Предположим, вы хотите создать одну большую таблицу из 3 маленьких\n",
    "\n",
    " "
   ]
  },
  {
   "cell_type": "code",
   "execution_count": 53,
   "metadata": {},
   "outputs": [
    {
     "name": "stdout",
     "output_type": "stream",
     "text": [
      "1000\n",
      "1000\n",
      "1000\n",
      "3000\n"
     ]
    }
   ],
   "source": [
    "import pandas as pd\n",
    "import os\n",
    "\n",
    "big_df = pd.DataFrame()\n",
    "for i in os.listdir():\n",
    "    if i.endswith('.xlsx'):\n",
    "        df = pd.read_excel(i, index_col=0)\n",
    "        print(len(df))\n",
    "        big_df = big_df.append(df)\n",
    "        \n",
    "print(len(big_df))\n",
    "\n",
    "big_df.to_excel('result.xlsx')\n"
   ]
  },
  {
   "cell_type": "markdown",
   "metadata": {},
   "source": [
    "# Спасибо за внимание!"
   ]
  },
  {
   "cell_type": "markdown",
   "metadata": {},
   "source": [
    "Для любопытных\n",
    "\n",
    "Почему постоянно используется переменная i: https://softwareengineering.stackexchange.com/questions/86904/why-do-most-of-us-use-i-as-a-loop-counter-variable"
   ]
  }
 ],
 "metadata": {
  "kernelspec": {
   "display_name": "Python 3",
   "language": "python",
   "name": "python3"
  },
  "language_info": {
   "codemirror_mode": {
    "name": "ipython",
    "version": 3
   },
   "file_extension": ".py",
   "mimetype": "text/x-python",
   "name": "python",
   "nbconvert_exporter": "python",
   "pygments_lexer": "ipython3",
   "version": "3.7.4"
  }
 },
 "nbformat": 4,
 "nbformat_minor": 2
}
